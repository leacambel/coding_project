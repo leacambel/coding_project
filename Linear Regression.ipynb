{
 "cells": [
  {
   "cell_type": "code",
   "execution_count": 1,
   "id": "incorporated-airport",
   "metadata": {},
   "outputs": [],
   "source": [
    "import pandas as pd\n",
    "import numpy as np"
   ]
  },
  {
   "cell_type": "code",
   "execution_count": 2,
   "id": "alpine-gibson",
   "metadata": {},
   "outputs": [
    {
     "data": {
      "text/html": [
       "<div>\n",
       "<style scoped>\n",
       "    .dataframe tbody tr th:only-of-type {\n",
       "        vertical-align: middle;\n",
       "    }\n",
       "\n",
       "    .dataframe tbody tr th {\n",
       "        vertical-align: top;\n",
       "    }\n",
       "\n",
       "    .dataframe thead th {\n",
       "        text-align: right;\n",
       "    }\n",
       "</style>\n",
       "<table border=\"1\" class=\"dataframe\">\n",
       "  <thead>\n",
       "    <tr style=\"text-align: right;\">\n",
       "      <th></th>\n",
       "      <th>Gender</th>\n",
       "      <th>Height</th>\n",
       "      <th>Weight</th>\n",
       "    </tr>\n",
       "  </thead>\n",
       "  <tbody>\n",
       "    <tr>\n",
       "      <th>0</th>\n",
       "      <td>Male</td>\n",
       "      <td>73.847017</td>\n",
       "      <td>241.893563</td>\n",
       "    </tr>\n",
       "    <tr>\n",
       "      <th>1</th>\n",
       "      <td>Male</td>\n",
       "      <td>68.781904</td>\n",
       "      <td>162.310473</td>\n",
       "    </tr>\n",
       "    <tr>\n",
       "      <th>2</th>\n",
       "      <td>Male</td>\n",
       "      <td>74.110105</td>\n",
       "      <td>212.740856</td>\n",
       "    </tr>\n",
       "    <tr>\n",
       "      <th>3</th>\n",
       "      <td>Male</td>\n",
       "      <td>71.730978</td>\n",
       "      <td>220.042470</td>\n",
       "    </tr>\n",
       "    <tr>\n",
       "      <th>4</th>\n",
       "      <td>Male</td>\n",
       "      <td>69.881796</td>\n",
       "      <td>206.349801</td>\n",
       "    </tr>\n",
       "  </tbody>\n",
       "</table>\n",
       "</div>"
      ],
      "text/plain": [
       "  Gender     Height      Weight\n",
       "0   Male  73.847017  241.893563\n",
       "1   Male  68.781904  162.310473\n",
       "2   Male  74.110105  212.740856\n",
       "3   Male  71.730978  220.042470\n",
       "4   Male  69.881796  206.349801"
      ]
     },
     "execution_count": 2,
     "metadata": {},
     "output_type": "execute_result"
    }
   ],
   "source": [
    "df = pd.read_csv('weight-height.csv')\n",
    "df.head()"
   ]
  },
  {
   "cell_type": "code",
   "execution_count": 3,
   "id": "settled-albert",
   "metadata": {},
   "outputs": [
    {
     "data": {
      "text/html": [
       "<div>\n",
       "<style scoped>\n",
       "    .dataframe tbody tr th:only-of-type {\n",
       "        vertical-align: middle;\n",
       "    }\n",
       "\n",
       "    .dataframe tbody tr th {\n",
       "        vertical-align: top;\n",
       "    }\n",
       "\n",
       "    .dataframe thead th {\n",
       "        text-align: right;\n",
       "    }\n",
       "</style>\n",
       "<table border=\"1\" class=\"dataframe\">\n",
       "  <thead>\n",
       "    <tr style=\"text-align: right;\">\n",
       "      <th></th>\n",
       "      <th>Height</th>\n",
       "      <th>Weight</th>\n",
       "    </tr>\n",
       "  </thead>\n",
       "  <tbody>\n",
       "    <tr>\n",
       "      <th>count</th>\n",
       "      <td>10000.000000</td>\n",
       "      <td>10000.000000</td>\n",
       "    </tr>\n",
       "    <tr>\n",
       "      <th>mean</th>\n",
       "      <td>66.367560</td>\n",
       "      <td>161.440357</td>\n",
       "    </tr>\n",
       "    <tr>\n",
       "      <th>std</th>\n",
       "      <td>3.847528</td>\n",
       "      <td>32.108439</td>\n",
       "    </tr>\n",
       "    <tr>\n",
       "      <th>min</th>\n",
       "      <td>54.263133</td>\n",
       "      <td>64.700127</td>\n",
       "    </tr>\n",
       "    <tr>\n",
       "      <th>25%</th>\n",
       "      <td>63.505620</td>\n",
       "      <td>135.818051</td>\n",
       "    </tr>\n",
       "    <tr>\n",
       "      <th>50%</th>\n",
       "      <td>66.318070</td>\n",
       "      <td>161.212928</td>\n",
       "    </tr>\n",
       "    <tr>\n",
       "      <th>75%</th>\n",
       "      <td>69.174262</td>\n",
       "      <td>187.169525</td>\n",
       "    </tr>\n",
       "    <tr>\n",
       "      <th>max</th>\n",
       "      <td>78.998742</td>\n",
       "      <td>269.989699</td>\n",
       "    </tr>\n",
       "  </tbody>\n",
       "</table>\n",
       "</div>"
      ],
      "text/plain": [
       "             Height        Weight\n",
       "count  10000.000000  10000.000000\n",
       "mean      66.367560    161.440357\n",
       "std        3.847528     32.108439\n",
       "min       54.263133     64.700127\n",
       "25%       63.505620    135.818051\n",
       "50%       66.318070    161.212928\n",
       "75%       69.174262    187.169525\n",
       "max       78.998742    269.989699"
      ]
     },
     "execution_count": 3,
     "metadata": {},
     "output_type": "execute_result"
    }
   ],
   "source": [
    "df.describe()"
   ]
  },
  {
   "cell_type": "code",
   "execution_count": 11,
   "id": "listed-decrease",
   "metadata": {},
   "outputs": [
    {
     "data": {
      "text/html": [
       "<div>\n",
       "<style scoped>\n",
       "    .dataframe tbody tr th:only-of-type {\n",
       "        vertical-align: middle;\n",
       "    }\n",
       "\n",
       "    .dataframe tbody tr th {\n",
       "        vertical-align: top;\n",
       "    }\n",
       "\n",
       "    .dataframe thead th {\n",
       "        text-align: right;\n",
       "    }\n",
       "</style>\n",
       "<table border=\"1\" class=\"dataframe\">\n",
       "  <thead>\n",
       "    <tr style=\"text-align: right;\">\n",
       "      <th></th>\n",
       "      <th>Gender</th>\n",
       "      <th>Height</th>\n",
       "      <th>Weight</th>\n",
       "    </tr>\n",
       "  </thead>\n",
       "  <tbody>\n",
       "    <tr>\n",
       "      <th>5000</th>\n",
       "      <td>Female</td>\n",
       "      <td>58.910732</td>\n",
       "      <td>102.088326</td>\n",
       "    </tr>\n",
       "    <tr>\n",
       "      <th>5001</th>\n",
       "      <td>Female</td>\n",
       "      <td>65.230013</td>\n",
       "      <td>141.305823</td>\n",
       "    </tr>\n",
       "    <tr>\n",
       "      <th>5002</th>\n",
       "      <td>Female</td>\n",
       "      <td>63.369004</td>\n",
       "      <td>131.041403</td>\n",
       "    </tr>\n",
       "    <tr>\n",
       "      <th>5003</th>\n",
       "      <td>Female</td>\n",
       "      <td>64.479997</td>\n",
       "      <td>128.171511</td>\n",
       "    </tr>\n",
       "    <tr>\n",
       "      <th>5004</th>\n",
       "      <td>Female</td>\n",
       "      <td>61.793096</td>\n",
       "      <td>129.781407</td>\n",
       "    </tr>\n",
       "  </tbody>\n",
       "</table>\n",
       "</div>"
      ],
      "text/plain": [
       "      Gender     Height      Weight\n",
       "5000  Female  58.910732  102.088326\n",
       "5001  Female  65.230013  141.305823\n",
       "5002  Female  63.369004  131.041403\n",
       "5003  Female  64.479997  128.171511\n",
       "5004  Female  61.793096  129.781407"
      ]
     },
     "execution_count": 11,
     "metadata": {},
     "output_type": "execute_result"
    }
   ],
   "source": [
    "female_df = df[df['Gender'] == 'Female']\n",
    "female_df.head()"
   ]
  },
  {
   "cell_type": "code",
   "execution_count": 12,
   "id": "congressional-mirror",
   "metadata": {},
   "outputs": [
    {
     "data": {
      "text/html": [
       "<div>\n",
       "<style scoped>\n",
       "    .dataframe tbody tr th:only-of-type {\n",
       "        vertical-align: middle;\n",
       "    }\n",
       "\n",
       "    .dataframe tbody tr th {\n",
       "        vertical-align: top;\n",
       "    }\n",
       "\n",
       "    .dataframe thead th {\n",
       "        text-align: right;\n",
       "    }\n",
       "</style>\n",
       "<table border=\"1\" class=\"dataframe\">\n",
       "  <thead>\n",
       "    <tr style=\"text-align: right;\">\n",
       "      <th></th>\n",
       "      <th>Gender</th>\n",
       "      <th>Height</th>\n",
       "      <th>Weight</th>\n",
       "    </tr>\n",
       "  </thead>\n",
       "  <tbody>\n",
       "    <tr>\n",
       "      <th>0</th>\n",
       "      <td>Male</td>\n",
       "      <td>73.847017</td>\n",
       "      <td>241.893563</td>\n",
       "    </tr>\n",
       "    <tr>\n",
       "      <th>1</th>\n",
       "      <td>Male</td>\n",
       "      <td>68.781904</td>\n",
       "      <td>162.310473</td>\n",
       "    </tr>\n",
       "    <tr>\n",
       "      <th>2</th>\n",
       "      <td>Male</td>\n",
       "      <td>74.110105</td>\n",
       "      <td>212.740856</td>\n",
       "    </tr>\n",
       "    <tr>\n",
       "      <th>3</th>\n",
       "      <td>Male</td>\n",
       "      <td>71.730978</td>\n",
       "      <td>220.042470</td>\n",
       "    </tr>\n",
       "    <tr>\n",
       "      <th>4</th>\n",
       "      <td>Male</td>\n",
       "      <td>69.881796</td>\n",
       "      <td>206.349801</td>\n",
       "    </tr>\n",
       "  </tbody>\n",
       "</table>\n",
       "</div>"
      ],
      "text/plain": [
       "  Gender     Height      Weight\n",
       "0   Male  73.847017  241.893563\n",
       "1   Male  68.781904  162.310473\n",
       "2   Male  74.110105  212.740856\n",
       "3   Male  71.730978  220.042470\n",
       "4   Male  69.881796  206.349801"
      ]
     },
     "execution_count": 12,
     "metadata": {},
     "output_type": "execute_result"
    }
   ],
   "source": [
    "male_df = df[df['Gender'] == 'Male']\n",
    "male_df.head()"
   ]
  },
  {
   "cell_type": "code",
   "execution_count": 21,
   "id": "clear-president",
   "metadata": {},
   "outputs": [
    {
     "data": {
      "text/plain": [
       "<matplotlib.axes._subplots.AxesSubplot at 0x2817b4f87c0>"
      ]
     },
     "execution_count": 21,
     "metadata": {},
     "output_type": "execute_result"
    },
    {
     "data": {
      "image/png": "[encoded data removed]",
      "text/plain": [
       "<Figure size 432x288 with 1 Axes>"
      ]
     },
     "metadata": {
      "needs_background": "light"
     },
     "output_type": "display_data"
    }
   ],
   "source": [
    "df.Gender.value_counts().plot(kind='bar')"
   ]
  },
  {
   "cell_type": "code",
   "execution_count": 24,
   "id": "widespread-merchant",
   "metadata": {},
   "outputs": [
    {
     "data": {
      "text/plain": [
       "<matplotlib.axes._subplots.AxesSubplot at 0x2817b5b8cd0>"
      ]
     },
     "execution_count": 24,
     "metadata": {},
     "output_type": "execute_result"
    },
    {
     "data": {
      "image/png": "[encoded data removed]",
      "text/plain": [
       "<Figure size 432x288 with 1 Axes>"
      ]
     },
     "metadata": {
      "needs_background": "light"
     },
     "output_type": "display_data"
    }
   ],
   "source": [
    "male_df.plot(kind='scatter', x = 'Weight', y = 'Height')"
   ]
  },
  {
   "cell_type": "code",
   "execution_count": 25,
   "id": "interested-indie",
   "metadata": {},
   "outputs": [
    {
     "data": {
      "text/html": [
       "<div>\n",
       "<style scoped>\n",
       "    .dataframe tbody tr th:only-of-type {\n",
       "        vertical-align: middle;\n",
       "    }\n",
       "\n",
       "    .dataframe tbody tr th {\n",
       "        vertical-align: top;\n",
       "    }\n",
       "\n",
       "    .dataframe thead th {\n",
       "        text-align: right;\n",
       "    }\n",
       "</style>\n",
       "<table border=\"1\" class=\"dataframe\">\n",
       "  <thead>\n",
       "    <tr style=\"text-align: right;\">\n",
       "      <th></th>\n",
       "      <th>Height</th>\n",
       "      <th>Weight</th>\n",
       "    </tr>\n",
       "  </thead>\n",
       "  <tbody>\n",
       "    <tr>\n",
       "      <th>count</th>\n",
       "      <td>5000.000000</td>\n",
       "      <td>5000.000000</td>\n",
       "    </tr>\n",
       "    <tr>\n",
       "      <th>mean</th>\n",
       "      <td>63.708774</td>\n",
       "      <td>135.860093</td>\n",
       "    </tr>\n",
       "    <tr>\n",
       "      <th>std</th>\n",
       "      <td>2.696284</td>\n",
       "      <td>19.022468</td>\n",
       "    </tr>\n",
       "    <tr>\n",
       "      <th>min</th>\n",
       "      <td>54.263133</td>\n",
       "      <td>64.700127</td>\n",
       "    </tr>\n",
       "    <tr>\n",
       "      <th>25%</th>\n",
       "      <td>61.894441</td>\n",
       "      <td>122.934096</td>\n",
       "    </tr>\n",
       "    <tr>\n",
       "      <th>50%</th>\n",
       "      <td>63.730924</td>\n",
       "      <td>136.117583</td>\n",
       "    </tr>\n",
       "    <tr>\n",
       "      <th>75%</th>\n",
       "      <td>65.563565</td>\n",
       "      <td>148.810926</td>\n",
       "    </tr>\n",
       "    <tr>\n",
       "      <th>max</th>\n",
       "      <td>73.389586</td>\n",
       "      <td>202.237214</td>\n",
       "    </tr>\n",
       "  </tbody>\n",
       "</table>\n",
       "</div>"
      ],
      "text/plain": [
       "            Height       Weight\n",
       "count  5000.000000  5000.000000\n",
       "mean     63.708774   135.860093\n",
       "std       2.696284    19.022468\n",
       "min      54.263133    64.700127\n",
       "25%      61.894441   122.934096\n",
       "50%      63.730924   136.117583\n",
       "75%      65.563565   148.810926\n",
       "max      73.389586   202.237214"
      ]
     },
     "execution_count": 25,
     "metadata": {},
     "output_type": "execute_result"
    }
   ],
   "source": [
    "female_df.describe()"
   ]
  },
  {
   "cell_type": "code",
   "execution_count": 26,
   "id": "nuclear-stake",
   "metadata": {},
   "outputs": [
    {
     "data": {
      "text/html": [
       "<div>\n",
       "<style scoped>\n",
       "    .dataframe tbody tr th:only-of-type {\n",
       "        vertical-align: middle;\n",
       "    }\n",
       "\n",
       "    .dataframe tbody tr th {\n",
       "        vertical-align: top;\n",
       "    }\n",
       "\n",
       "    .dataframe thead th {\n",
       "        text-align: right;\n",
       "    }\n",
       "</style>\n",
       "<table border=\"1\" class=\"dataframe\">\n",
       "  <thead>\n",
       "    <tr style=\"text-align: right;\">\n",
       "      <th></th>\n",
       "      <th>Height</th>\n",
       "      <th>Weight</th>\n",
       "    </tr>\n",
       "  </thead>\n",
       "  <tbody>\n",
       "    <tr>\n",
       "      <th>count</th>\n",
       "      <td>5000.000000</td>\n",
       "      <td>5000.000000</td>\n",
       "    </tr>\n",
       "    <tr>\n",
       "      <th>mean</th>\n",
       "      <td>69.026346</td>\n",
       "      <td>187.020621</td>\n",
       "    </tr>\n",
       "    <tr>\n",
       "      <th>std</th>\n",
       "      <td>2.863362</td>\n",
       "      <td>19.781155</td>\n",
       "    </tr>\n",
       "    <tr>\n",
       "      <th>min</th>\n",
       "      <td>58.406905</td>\n",
       "      <td>112.902939</td>\n",
       "    </tr>\n",
       "    <tr>\n",
       "      <th>25%</th>\n",
       "      <td>67.174679</td>\n",
       "      <td>173.887767</td>\n",
       "    </tr>\n",
       "    <tr>\n",
       "      <th>50%</th>\n",
       "      <td>69.027709</td>\n",
       "      <td>187.033546</td>\n",
       "    </tr>\n",
       "    <tr>\n",
       "      <th>75%</th>\n",
       "      <td>70.988744</td>\n",
       "      <td>200.357802</td>\n",
       "    </tr>\n",
       "    <tr>\n",
       "      <th>max</th>\n",
       "      <td>78.998742</td>\n",
       "      <td>269.989699</td>\n",
       "    </tr>\n",
       "  </tbody>\n",
       "</table>\n",
       "</div>"
      ],
      "text/plain": [
       "            Height       Weight\n",
       "count  5000.000000  5000.000000\n",
       "mean     69.026346   187.020621\n",
       "std       2.863362    19.781155\n",
       "min      58.406905   112.902939\n",
       "25%      67.174679   173.887767\n",
       "50%      69.027709   187.033546\n",
       "75%      70.988744   200.357802\n",
       "max      78.998742   269.989699"
      ]
     },
     "execution_count": 26,
     "metadata": {},
     "output_type": "execute_result"
    }
   ],
   "source": [
    "male_df.describe()"
   ]
  },
  {
   "cell_type": "code",
   "execution_count": 32,
   "id": "binary-cooperation",
   "metadata": {},
   "outputs": [
    {
     "data": {
      "text/html": [
       "<div>\n",
       "<style scoped>\n",
       "    .dataframe tbody tr th:only-of-type {\n",
       "        vertical-align: middle;\n",
       "    }\n",
       "\n",
       "    .dataframe tbody tr th {\n",
       "        vertical-align: top;\n",
       "    }\n",
       "\n",
       "    .dataframe thead th {\n",
       "        text-align: right;\n",
       "    }\n",
       "</style>\n",
       "<table border=\"1\" class=\"dataframe\">\n",
       "  <thead>\n",
       "    <tr style=\"text-align: right;\">\n",
       "      <th></th>\n",
       "      <th>Gender</th>\n",
       "      <th>Height</th>\n",
       "      <th>Weight</th>\n",
       "    </tr>\n",
       "  </thead>\n",
       "  <tbody>\n",
       "    <tr>\n",
       "      <th>0</th>\n",
       "      <td>Male</td>\n",
       "      <td>73.847017</td>\n",
       "      <td>241.893563</td>\n",
       "    </tr>\n",
       "    <tr>\n",
       "      <th>1</th>\n",
       "      <td>Male</td>\n",
       "      <td>68.781904</td>\n",
       "      <td>162.310473</td>\n",
       "    </tr>\n",
       "    <tr>\n",
       "      <th>2</th>\n",
       "      <td>Male</td>\n",
       "      <td>74.110105</td>\n",
       "      <td>212.740856</td>\n",
       "    </tr>\n",
       "    <tr>\n",
       "      <th>3</th>\n",
       "      <td>Male</td>\n",
       "      <td>71.730978</td>\n",
       "      <td>220.042470</td>\n",
       "    </tr>\n",
       "    <tr>\n",
       "      <th>4</th>\n",
       "      <td>Male</td>\n",
       "      <td>69.881796</td>\n",
       "      <td>206.349801</td>\n",
       "    </tr>\n",
       "  </tbody>\n",
       "</table>\n",
       "</div>"
      ],
      "text/plain": [
       "  Gender     Height      Weight\n",
       "0   Male  73.847017  241.893563\n",
       "1   Male  68.781904  162.310473\n",
       "2   Male  74.110105  212.740856\n",
       "3   Male  71.730978  220.042470\n",
       "4   Male  69.881796  206.349801"
      ]
     },
     "execution_count": 32,
     "metadata": {},
     "output_type": "execute_result"
    }
   ],
   "source": [
    "male_df.head()"
   ]
  },
  {
   "cell_type": "code",
   "execution_count": 37,
   "id": "cognitive-scholarship",
   "metadata": {},
   "outputs": [
    {
     "data": {
      "text/plain": [
       "array([[73.84701702],\n",
       "       [68.78190405],\n",
       "       [74.11010539],\n",
       "       ...,\n",
       "       [67.01379497],\n",
       "       [71.55771849],\n",
       "       [70.35187988]])"
      ]
     },
     "execution_count": 37,
     "metadata": {},
     "output_type": "execute_result"
    }
   ],
   "source": [
    "X = male_df.iloc[:, 1:2].values\n",
    "X"
   ]
  },
  {
   "cell_type": "code",
   "execution_count": 33,
   "id": "sapphire-wayne",
   "metadata": {},
   "outputs": [
    {
     "data": {
      "text/plain": [
       "array([241.89356318, 162.31047252, 212.74085556, ..., 199.19540008,\n",
       "       185.90590949, 198.90301194])"
      ]
     },
     "execution_count": 33,
     "metadata": {},
     "output_type": "execute_result"
    }
   ],
   "source": [
    "y = male_df.iloc[:,2].values\n",
    "y"
   ]
  },
  {
   "cell_type": "code",
   "execution_count": 40,
   "id": "surgical-samoa",
   "metadata": {},
   "outputs": [
    {
     "data": {
      "text/plain": [
       "pandas.core.frame.DataFrame"
      ]
     },
     "execution_count": 40,
     "metadata": {},
     "output_type": "execute_result"
    }
   ],
   "source": [
    "type(male_df)"
   ]
  },
  {
   "cell_type": "code",
   "execution_count": 54,
   "id": "interim-burden",
   "metadata": {},
   "outputs": [],
   "source": [
    "from sklearn.model_selection import train_test_split\n",
    "x_train, x_test, y_train, y_test = train_test_split(X, y, test_size=0.10)"
   ]
  },
  {
   "cell_type": "code",
   "execution_count": 34,
   "id": "double-stone",
   "metadata": {},
   "outputs": [],
   "source": [
    "from sklearn import linear_model"
   ]
  },
  {
   "cell_type": "code",
   "execution_count": 55,
   "id": "durable-child",
   "metadata": {},
   "outputs": [
    {
     "data": {
      "text/plain": [
       "LinearRegression()"
      ]
     },
     "execution_count": 55,
     "metadata": {},
     "output_type": "execute_result"
    }
   ],
   "source": [
    "linear = linear_model.LinearRegression()\n",
    "linear.fit(x_train, y_train)"
   ]
  },
  {
   "cell_type": "code",
   "execution_count": 44,
   "id": "necessary-helmet",
   "metadata": {},
   "outputs": [],
   "source": [
    "y_pred = linear.predict(x_test)"
   ]
  },
  {
   "cell_type": "code",
   "execution_count": 48,
   "id": "supposed-brother",
   "metadata": {
    "collapsed": true
   },
   "outputs": [
    {
     "data": {
      "text/plain": [
       "array([206.29424302, 203.43544495, 197.8490645 , 208.55436753,\n",
       "       185.45650364, 221.53582487, 198.23557307, 160.64896177,\n",
       "       190.08481676, 186.57759917, 167.99658484, 170.51930329,\n",
       "       177.42504204, 206.97781071, 203.03266515, 206.08999256,\n",
       "       176.81604025, 176.55073477, 148.00785728, 196.27063177,\n",
       "       195.44571863, 196.74048184, 201.84466798, 164.63709603,\n",
       "       173.62893388, 152.18068852, 187.09671178, 214.3326468 ,\n",
       "       182.82612723, 177.1965335 , 190.3827869 , 197.5797092 ,\n",
       "       182.46012506, 189.41511942, 203.5347528 , 194.06499184,\n",
       "       193.02973794, 175.89666191, 214.12514559, 201.43904782,\n",
       "       213.80502776, 178.51806322, 177.26178444, 175.70627621,\n",
       "       210.61444949, 177.45842261, 175.76190063, 166.35151771,\n",
       "       163.76515008, 180.25908581, 179.62635014, 194.45625947,\n",
       "       191.10646324, 186.50625167, 184.84096888, 200.7804774 ,\n",
       "       174.8046377 , 195.29082711, 156.1493147 , 178.63946671,\n",
       "       179.46794852, 173.14836422, 164.36095267, 177.66607259,\n",
       "       209.16250493, 194.0105915 , 185.5165265 , 185.20991209,\n",
       "       174.15873617, 160.42037823, 173.11640824, 212.96271743,\n",
       "       206.33601   , 148.48874817, 188.4719968 , 194.12414038,\n",
       "       183.01657606, 181.67155286, 167.81089987, 193.36341817,\n",
       "       187.0973926 , 201.37851407, 188.55935549, 166.97988779,\n",
       "       226.5750675 , 195.97500504, 184.33609389, 191.4532584 ,\n",
       "       208.76839469, 186.32493756, 200.96108914, 172.3748343 ,\n",
       "       175.09486251, 175.72553653, 199.37325453, 176.67426613,\n",
       "       199.81781737, 169.37958226, 191.3891904 , 177.49037313,\n",
       "       182.62961953, 168.38035576, 193.28349316, 173.94436274,\n",
       "       187.4963117 , 185.37480896, 169.35565368, 211.42952274,\n",
       "       168.33354499, 201.39848853, 195.48746779, 187.95650377,\n",
       "       189.07199959, 201.15485739, 190.27848408, 170.82213502,\n",
       "       183.73870013, 190.17906278, 206.84453433, 189.74396283,\n",
       "       185.03596217, 191.90395764, 210.50131628, 208.30112276,\n",
       "       145.03419244, 190.77894101, 224.98929998, 184.99553897,\n",
       "       188.6347071 , 218.91245827, 204.65175774, 147.00082745,\n",
       "       171.18034296, 211.16853183, 215.6175593 , 197.90600119,\n",
       "       207.44464928, 185.50934128, 193.05060932, 191.8939462 ,\n",
       "       189.11615827, 182.9894465 , 181.08403406, 164.29233019,\n",
       "       209.16134092, 202.66614183, 172.61705812, 202.87354676,\n",
       "       163.04279126, 167.74391443, 182.26333976, 179.88290396,\n",
       "       222.42104621, 164.71067032, 203.45621907, 190.87026546,\n",
       "       189.3571114 , 192.85995269, 183.94780227, 173.07781661,\n",
       "       157.49803625, 195.6876629 , 202.06796726, 202.83168475,\n",
       "       213.73123976, 190.36958619, 183.19950518, 165.86980161,\n",
       "       200.73056951, 178.78396225, 191.90548262, 197.61189926,\n",
       "       219.28893556, 151.17062267, 194.71867114, 198.06782678,\n",
       "       139.66976769, 189.02607869, 199.64303899, 199.425306  ,\n",
       "       202.56856712, 177.15199997, 153.49965297, 172.47752301,\n",
       "       228.10009813, 198.13771625, 179.68071645, 202.94283144,\n",
       "       175.97307292, 187.27875854, 196.92686674, 182.70399102,\n",
       "       189.0280609 , 161.6212526 , 184.39620031, 182.88416004,\n",
       "       175.28381127, 178.52423755, 179.5384097 , 192.96104861,\n",
       "       192.12173303, 217.7758882 , 199.5991529 , 191.24419658,\n",
       "       188.20004869, 200.4680486 , 162.89444063, 197.90624556,\n",
       "       189.32346909, 185.13100296, 214.43793625, 190.25562194,\n",
       "       200.33156222, 186.52884516, 201.4005573 , 217.43425279,\n",
       "       211.90456336, 192.52578818, 208.2671701 , 175.10975333,\n",
       "       157.63744893, 177.59522488, 196.54892086, 200.37758121,\n",
       "       202.10358146, 205.37496045, 171.09419329, 199.30616003,\n",
       "       168.6064892 , 211.01926945, 203.7624922 , 204.96906034,\n",
       "       163.47295817, 175.78348152, 201.13291507, 170.47110281,\n",
       "       193.13237916, 196.74145395, 185.20833463, 180.58714725,\n",
       "       199.31436053, 177.94973872, 186.25626156, 199.13117449,\n",
       "       170.30187827, 177.83301514, 206.83185674, 165.63950021,\n",
       "       216.38146837, 202.13314846, 173.4470805 , 192.40786657,\n",
       "       199.21586676, 183.79376008, 175.62498417, 207.14596763,\n",
       "       200.34797268, 198.0981738 , 204.86381419, 175.73607177,\n",
       "       198.14316496, 172.22857267, 185.75062002, 222.32280749,\n",
       "       200.0052868 , 200.19054687, 180.22303704, 206.13482046,\n",
       "       150.65467151, 188.51806463, 209.29045942, 187.51188102,\n",
       "       190.5957339 , 214.19990923, 176.27759786, 178.76704561,\n",
       "       220.82982977, 159.04855557, 142.06789818, 167.32759211,\n",
       "       177.15318263, 182.85961515, 189.00142634, 224.43727833,\n",
       "       197.41166379, 182.70099485, 168.83201128, 197.50638943,\n",
       "       182.43665819, 176.0532124 , 187.29921287, 188.4892298 ,\n",
       "       181.38326428, 175.559248  , 164.67134974, 201.79582503,\n",
       "       192.8953131 , 184.23841134, 175.32582211, 218.92153994,\n",
       "       240.8779373 , 166.17269711, 188.93173804, 202.22909322,\n",
       "       213.31101107, 200.43400812, 158.87338679, 197.67835631,\n",
       "       188.69377886, 194.18443357, 182.51279337, 197.04696485,\n",
       "       204.59506091, 246.24638048, 201.45534874, 197.27590505,\n",
       "       161.78809303, 189.08739049, 190.59826519, 197.47538895,\n",
       "       190.02376054, 168.00903441, 175.32861971, 172.70872403,\n",
       "       232.69701712, 177.31513098, 170.58231226, 186.5638158 ,\n",
       "       187.2273503 , 206.18524163, 174.47601131, 186.86078182,\n",
       "       162.08998573, 167.80455338, 202.0547889 , 180.83251403,\n",
       "       188.20391647, 182.10529474, 206.26847206, 177.34164302,\n",
       "       181.03382636, 200.05701856, 157.13113446, 191.02756341,\n",
       "       191.82125323, 192.11844165, 198.77320447, 164.16862722,\n",
       "       192.28934585, 194.24786198, 203.7470747 , 203.38325709,\n",
       "       168.93556684, 201.94763332, 210.45601048, 173.07517462,\n",
       "       174.08630481, 187.54374301, 181.96688976, 190.04155269,\n",
       "       181.49336495, 182.37275585, 165.70985021, 190.89590551,\n",
       "       180.81277117, 184.5940099 , 150.00779173, 175.652529  ,\n",
       "       201.23455335, 185.39331992, 173.05772153, 221.03563916,\n",
       "       194.25567079, 185.95281587, 181.05498683, 186.14502846,\n",
       "       202.26396222, 166.09981058, 225.1833863 , 196.34218586,\n",
       "       212.98070536, 191.07010955, 207.22474189, 181.09258559,\n",
       "       198.58090623, 195.66203814, 190.11256646, 156.1907201 ,\n",
       "       172.87789748, 185.56396868, 199.86548554, 154.57077071,\n",
       "       186.92464394, 198.28941854, 237.13021869, 195.65697744,\n",
       "       212.83574173, 201.1549887 , 166.37665324, 196.98406879,\n",
       "       184.30529178, 205.16358968, 208.8849373 , 156.24150915,\n",
       "       196.87280207, 179.55516985, 187.17548857, 209.61307957,\n",
       "       167.9943534 , 209.01020912, 183.36460523, 216.76661481,\n",
       "       179.52984445, 183.61673985, 212.23226031, 192.30177245,\n",
       "       229.83928802, 198.46403223, 205.41705887, 187.2566623 ,\n",
       "       202.51798674, 191.41962266, 164.39468854, 165.30634395,\n",
       "       155.11019875, 178.13075542, 232.08792067, 174.8898212 ,\n",
       "       138.84478344, 188.35677172, 201.54469509, 204.92889479,\n",
       "       174.31514439, 138.1582103 , 213.79604768, 198.58921435,\n",
       "       170.05128889, 159.74758138, 154.26793438, 169.58708583,\n",
       "       177.94061322, 186.14535558, 192.92327499, 169.72167356,\n",
       "       190.17972674, 199.70397752, 185.84683712, 199.84804076,\n",
       "       184.00707998, 165.72113354, 183.17621487, 188.83657919,\n",
       "       181.53625477, 166.21413347, 190.13185893, 166.0122937 ,\n",
       "       201.22864674, 197.84158025, 196.77395152, 149.37653645,\n",
       "       154.66524935, 179.38042551, 193.90922031, 196.85256526,\n",
       "       195.62797192, 192.48672128, 166.9416547 , 182.28027003,\n",
       "       200.67432852, 176.40591246, 197.46752471, 191.06742503,\n",
       "       172.25056198, 163.22342693, 193.26214024, 180.85219968,\n",
       "       211.30617709, 219.17964361, 148.85909348, 199.44193617,\n",
       "       216.49626048, 185.93140745, 165.88058003, 188.45752095,\n",
       "       178.20956799, 189.61919749, 182.41071144, 173.7432271 ,\n",
       "       205.22033268, 186.83186521, 192.14103736, 159.97568719,\n",
       "       200.17360377, 199.52497145, 191.41983224, 186.91177108,\n",
       "       197.78003319, 191.44121168, 178.49637223, 201.23769502,\n",
       "       180.04427242, 169.66274881, 201.04868515, 202.0472918 ,\n",
       "       183.0401352 , 163.01904898, 173.63882625, 178.46484145,\n",
       "       169.7991132 , 194.18413522, 173.02213547, 168.56469502,\n",
       "       168.55466486, 190.80685395, 186.82223561, 175.09773738,\n",
       "       195.26578882, 162.71817561, 202.43034018, 168.81178756,\n",
       "       176.60148784, 186.49545924, 185.55796709, 205.28102811,\n",
       "       180.26463739, 183.49109503, 207.60272582, 178.19199893,\n",
       "       176.27469052, 183.60961977, 147.86860586, 202.77430402,\n",
       "       194.41213991, 193.64394556, 200.35313648, 186.52851919,\n",
       "       193.681475  , 232.52445278, 214.72168185, 164.11997768,\n",
       "       202.57319227, 203.52573345, 183.53059839, 158.25628514,\n",
       "       198.5596755 , 175.57252159, 188.38735333, 193.87466766,\n",
       "       187.73227197, 169.21980561, 170.20296272, 176.52752192,\n",
       "       194.95269877, 186.38887962, 208.39666943, 221.52764982,\n",
       "       208.91691875, 143.71017157, 172.28471558, 174.37847788,\n",
       "       221.36445003, 193.42232681, 180.84895998, 165.32735898,\n",
       "       191.41255672, 190.47170177, 178.16727012, 193.42500716,\n",
       "       202.54133078, 179.29636903, 192.7476843 , 181.83613645,\n",
       "       192.32239937, 159.06725249, 211.69459971, 163.07548411,\n",
       "       185.84432229, 180.86907312, 211.94050709, 176.46240388,\n",
       "       197.62113282, 226.53002098, 195.50117637, 192.96130566,\n",
       "       191.71461709, 163.8083881 , 209.65626481, 174.60809427,\n",
       "       162.27812252, 188.80592186, 167.18020564, 223.5688632 ,\n",
       "       197.98242543, 190.83260716, 162.89678174, 198.19013036,\n",
       "       156.81792328, 216.45192351, 195.24469935, 186.8977475 ,\n",
       "       155.54686302, 181.43938426, 203.77977553, 178.9512401 ,\n",
       "       181.69921398, 187.59355911, 220.06040857, 154.7624994 ,\n",
       "       207.73405519, 167.25372199, 207.22660934, 195.9668779 ,\n",
       "       198.40095613, 202.2960067 , 195.8076377 , 178.54275789,\n",
       "       183.7335298 , 207.9601691 , 215.42643354, 159.6255962 ,\n",
       "       199.40473701, 167.97205887, 177.18251035, 202.88273341,\n",
       "       132.49652667, 178.13487821, 194.54890267, 204.52050758,\n",
       "       154.94830101, 196.40522391, 157.25312011, 215.65402635,\n",
       "       176.52366735, 176.24589988, 189.0053808 , 196.99347239,\n",
       "       189.42431264, 216.3322208 , 191.13347489, 161.94931846,\n",
       "       186.59954162, 176.37535948, 175.57368892, 210.79928912,\n",
       "       202.48470494, 215.92918091, 186.9955349 , 201.44720474,\n",
       "       165.94502193, 186.07571955, 186.81998618, 169.79537799,\n",
       "       202.39714499, 181.09539879, 195.62859989, 149.86411444,\n",
       "       176.07692316, 195.14682924, 183.86789747, 180.64612405,\n",
       "       187.7990245 , 177.57021876, 191.92016087, 184.37641726,\n",
       "       197.39144962, 208.82179063, 192.26957919, 174.7178286 ,\n",
       "       191.75248847, 195.33486198, 195.74880661, 181.98227394,\n",
       "       191.37369549, 137.32308386, 150.81522471, 203.2988677 ,\n",
       "       148.3666148 , 198.26489045, 202.90381159, 208.54114231,\n",
       "       177.2976854 , 192.64010128, 183.86791643, 149.65303122,\n",
       "       149.95448795, 213.57649401, 188.75422143, 176.25218117,\n",
       "       155.28903321, 175.96621319, 198.39513339, 148.00461092,\n",
       "       209.47169469, 168.55098657, 172.11832444, 199.16248104,\n",
       "       214.27465346, 177.84732396, 176.38783241, 178.15150495,\n",
       "       185.18442735, 158.84952159, 177.43253194, 206.28853162,\n",
       "       155.69929395, 163.61744227, 174.84868787, 186.04984619,\n",
       "       179.64188632, 183.56613704, 163.23975582, 183.42302554,\n",
       "       191.79892649, 187.58571578, 185.92247461, 179.63677969,\n",
       "       164.22672235, 205.33243104, 174.08432862, 195.14253624,\n",
       "       172.86022462, 196.15994586, 194.21710021, 181.70458967,\n",
       "       201.84837361, 170.27967101, 180.98745969, 178.70966279,\n",
       "       201.83172175, 192.72052154, 187.23734671, 175.15763287,\n",
       "       210.18361931, 161.12523809, 202.35985588, 164.74944716,\n",
       "       187.44366742, 177.0834779 , 206.84529485, 211.13040082,\n",
       "       178.70326761, 172.61625248, 218.08124451, 173.80999843,\n",
       "       173.29662994, 165.23066296, 167.93172217, 175.75669583,\n",
       "       173.15248398, 191.19654658, 187.71672065, 209.22177669,\n",
       "       179.46017795, 203.60822192, 196.08310753, 204.85384466,\n",
       "       185.90343501, 184.04681169, 193.01954531, 189.65866721,\n",
       "       181.5506806 , 177.47189632, 183.31497672, 207.29593839,\n",
       "       212.75995898, 178.58596633, 213.99760744, 159.26145141,\n",
       "       178.28068019, 207.89569538, 181.89678583, 189.52160301,\n",
       "       143.78895025, 182.22766256, 196.09007809, 159.53842299,\n",
       "       183.74386166, 175.59380335, 216.31301944, 168.20284726,\n",
       "       198.52389009, 187.64036818, 192.4949109 , 201.56458892,\n",
       "       193.16739748, 191.37677308, 174.46089206, 180.88304724,\n",
       "       202.86973976, 195.117995  , 192.85292353, 201.91396256,\n",
       "       199.55861135, 187.32280516, 154.55062033, 205.36078234,\n",
       "       195.22559285, 177.08255536, 189.96922813, 204.15789599,\n",
       "       189.92983465, 185.3197709 , 171.7735759 , 199.70061221,\n",
       "       160.45993965, 178.82156214, 180.56911489, 163.34711864,\n",
       "       208.51581356, 167.06794791, 163.02192247, 185.88833191,\n",
       "       186.86594188, 184.52682258, 155.94076802, 206.16873734,\n",
       "       210.79110202, 156.47988882, 191.69092901, 174.53062618,\n",
       "       195.61081338, 197.8947218 , 168.31890269, 186.01401813,\n",
       "       197.64364417, 186.14093197, 184.06592317, 209.02388192,\n",
       "       222.52921197, 183.87584989, 170.40036429, 193.34831519,\n",
       "       190.12551096, 220.72770862, 174.03508415, 176.99561755,\n",
       "       175.0342037 , 165.92274608, 179.5263189 , 173.12829392,\n",
       "       201.87366799, 152.44366236, 161.55511864, 188.36075416,\n",
       "       201.82705152, 184.83991465, 169.06118922, 195.30929987,\n",
       "       202.67755495, 187.67903091, 197.20446142, 196.6661722 ,\n",
       "       189.10580258, 179.65810024, 215.77431012, 176.33381566,\n",
       "       194.83332282, 206.41716759, 180.98998896, 203.2397082 ,\n",
       "       174.03881266, 189.24958723, 166.06630603, 163.4374733 ,\n",
       "       187.86384456, 186.31803925, 178.4342002 , 170.58773562,\n",
       "       162.25295827, 207.96683382, 170.7824143 , 177.04797302,\n",
       "       147.73121363, 208.94785739, 176.50225416, 157.31814694,\n",
       "       173.58683758, 192.56735953, 201.44600104, 200.51678065,\n",
       "       183.19810049, 168.54570292, 183.87012381, 178.74135225,\n",
       "       173.37802154, 142.28385605, 196.77295007, 181.29218336,\n",
       "       197.05283154, 169.13323522, 203.02453636, 188.92004305,\n",
       "       184.16602151, 173.37444893, 198.37185103, 183.51433327,\n",
       "       173.60743177, 187.56449305, 201.82185119, 206.52408574,\n",
       "       182.00318137, 213.02863267, 210.12612657, 197.72970311,\n",
       "       203.96145577, 168.58153825, 186.14836898, 222.33304533,\n",
       "       220.26472187, 165.96734103, 182.96621668, 188.1665527 ,\n",
       "       157.64744805, 179.5673524 , 177.2371551 , 193.97594238,\n",
       "       197.9418262 , 186.07602914, 191.27893284, 182.98594065,\n",
       "       177.00306339, 204.03000219, 218.36120233, 177.18073712,\n",
       "       178.15354678, 197.99722598, 205.08130713, 180.88075811,\n",
       "       184.52050448, 189.44461625, 192.63538395, 203.29347102,\n",
       "       188.14463249, 196.21686028, 182.20186113, 168.07313183,\n",
       "       203.60464345, 182.71109158, 187.32736471, 189.85422478,\n",
       "       192.23550999, 181.86840221, 168.05427196, 201.26271312,\n",
       "       193.45405681, 194.58228613, 200.88624878, 195.20471007,\n",
       "       180.80515642, 187.40080828, 210.52418079, 210.4132757 ,\n",
       "       199.39439671, 188.27503745, 167.38551645, 190.81702002,\n",
       "       186.83855493, 206.6668571 , 165.07250889, 166.756007  ,\n",
       "       178.13473207, 178.90925903, 217.17882031, 206.50388926,\n",
       "       182.26332862, 185.17893259, 185.14040531, 190.16352583,\n",
       "       187.70475889, 200.63063864, 190.33122455, 202.81208364,\n",
       "       216.44031046, 172.93323891, 164.16408639, 197.70257346,\n",
       "       181.81127459, 188.37092651, 186.32496804, 205.80497186,\n",
       "       183.10257265, 212.31148906, 180.18754152, 160.62511538,\n",
       "       209.39402289, 175.4145502 , 163.37477735, 165.67603615,\n",
       "       183.31991654, 179.07468161, 230.16522958, 191.49224849,\n",
       "       186.89119028, 192.36248437, 185.2900114 , 194.52168284,\n",
       "       171.94679877, 170.45586288, 175.43352014, 198.54652411])"
      ]
     },
     "execution_count": 48,
     "metadata": {},
     "output_type": "execute_result"
    }
   ],
   "source": [
    "y_pred"
   ]
  },
  {
   "cell_type": "code",
   "execution_count": 56,
   "id": "egyptian-restoration",
   "metadata": {},
   "outputs": [
    {
     "data": {
      "text/plain": [
       "[<matplotlib.lines.Line2D at 0x2818526f940>]"
      ]
     },
     "execution_count": 56,
     "metadata": {},
     "output_type": "execute_result"
    },
    {
     "data": {
      "image/png": "[encoded data removed]",
      "text/plain": [
       "<Figure size 432x288 with 1 Axes>"
      ]
     },
     "metadata": {
      "needs_background": "light"
     },
     "output_type": "display_data"
    }
   ],
   "source": [
    "import matplotlib.pyplot as plt\n",
    "plt.scatter(x_train, y_train, color = 'blue')\n",
    "plt.plot(x_train, linear.predict(x_train), color = 'yellow')"
   ]
  },
  {
   "cell_type": "code",
   "execution_count": 50,
   "id": "speaking-chick",
   "metadata": {},
   "outputs": [
    {
     "data": {
      "text/plain": [
       "array([209.80736487])"
      ]
     },
     "execution_count": 50,
     "metadata": {},
     "output_type": "execute_result"
    }
   ],
   "source": [
    "# Predict the weight\n",
    "a = np.array([72.870360147235])\n",
    "a= a.reshape(-1, 1)\n",
    "linear.predict(a)"
   ]
  },
  {
   "cell_type": "code",
   "execution_count": 57,
   "id": "broad-apple",
   "metadata": {},
   "outputs": [
    {
     "name": "stdout",
     "output_type": "stream",
     "text": [
      "0.7736940360381864\n"
     ]
    }
   ],
   "source": [
    "acc = linear.score(x_test,y_test)\n",
    "print(acc)"
   ]
  },
  {
   "cell_type": "code",
   "execution_count": null,
   "id": "front-freedom",
   "metadata": {},
   "outputs": [],
   "source": []
  }
 ],
 "metadata": {
  "kernelspec": {
   "display_name": "Python 3",
   "language": "python",
   "name": "python3"
  },
  "language_info": {
   "codemirror_mode": {
    "name": "ipython",
    "version": 3
   },
   "file_extension": ".py",
   "mimetype": "text/x-python",
   "name": "python",
   "nbconvert_exporter": "python",
   "pygments_lexer": "ipython3",
   "version": "3.8.5"
  }
 },
 "nbformat": 4,
 "nbformat_minor": 5
}
